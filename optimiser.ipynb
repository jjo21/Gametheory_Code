{
 "cells": [
  {
   "cell_type": "code",
   "execution_count": 1,
   "metadata": {},
   "outputs": [],
   "source": [
    "import scipy as sp\n",
    "import numpy as np\n",
    "from numbers import Number"
   ]
  },
  {
   "cell_type": "code",
   "execution_count": null,
   "metadata": {},
   "outputs": [
    {
     "name": "stdout",
     "output_type": "stream",
     "text": [
      "Social Optimum Analysis (Without Kra Canal)\n",
      "Optimal solution: [57.95987387 42.04012613 57.95987387 23.41120169 18.62892445]\n",
      "Objective value: 184.68827048616757\n"
     ]
    }
   ],
   "source": [
    "from numbers import Number\n",
    "\n",
    "def shipping_analysis(A, b, M, kra=True, eq=True, flag=True):\n",
    "    if not (isinstance(A, np.ndarray) and len(A.shape) == 2\n",
    "            and isinstance(b, np.ndarray) and len(b.shape) == 1\n",
    "            and isinstance(M, Number)):\n",
    "        raise TypeError(\"A has to be a 2D numpy array, b a 1D numpy array\"\n",
    "                        \"and M a number.\")\n",
    "    \n",
    "    if kra:\n",
    "        A_w = A\n",
    "        b_w = b\n",
    "        c1 = np.array([1, 1, 0, 0, 0, 0])\n",
    "        c2 = np.array([-1, 0, 1, 0, 0, 1])\n",
    "        c3 = np.array([0, -1, 0, 1, 1, 0])\n",
    "    else:\n",
    "        A_w = A[:-1, :-1]\n",
    "        b_w = b[:-1]\n",
    "        c1 = np.array([1, 1, 0, 0, 0])\n",
    "        c2 = np.array([-1, 0, 1, 0, 0])\n",
    "        c3 = np.array([0, -1, 0, 1, 1])\n",
    "\n",
    "    x0 = np.ones_like(b_w)\n",
    "    bounds = [(0, None) for _ in range(len(x0))]\n",
    "    def constraint_1(x):\n",
    "        return c1 @ x - M\n",
    "    def constraint_2(x):\n",
    "        return c2 @ x\n",
    "    def constraint_3(x):\n",
    "        return c3 @ x\n",
    "    if eq:\n",
    "        def cost_function(x):\n",
    "            if not isinstance(x, np.ndarray):\n",
    "                raise TypeError\n",
    "            return 1/2 * (x.T @ A_w @ x) + b_w.T @ x\n",
    "    else:\n",
    "        def cost_function(x):\n",
    "            if not isinstance(x, np.ndarray):\n",
    "                raise TypeError\n",
    "            return 1/M*(x.T @ A_w @ x + b_w.T @ x)\n",
    "    constraints = [\n",
    "            {\"type\": \"eq\", \"fun\": constraint_1},\n",
    "            {\"type\": \"eq\", \"fun\": constraint_2},\n",
    "            {\"type\": \"eq\", \"fun\": constraint_3},\n",
    "        ]\n",
    "    result = sp.optimize.minimize(cost_function, x0, constraints=constraints, \n",
    "                                  bounds=bounds, tol=1e-8)\n",
    "    if flag:\n",
    "        if eq:\n",
    "            text = \"Equilibrium Analysis\"\n",
    "        else:\n",
    "            text = \"Social Optimum Analysis\"\n",
    "        if kra:\n",
    "            text += \" (With Kra Canal)\"\n",
    "        else:\n",
    "            text += \" (Without Kra Canal)\"\n",
    "        print(text)\n",
    "        if result.success:\n",
    "            print(\"Optimal solution:\", result.x)\n",
    "            print(\"Objective value:\", result.fun)\n",
    "        else:\n",
    "            print(\"Optimization failed:\", result.message)\n",
    "    return result.x\n",
    "A = np.diag([0.1, 2, 3, 4, 5, 6])\n",
    "b = np.array([0.1, 3, 4, 5, 6, 7])\n",
    "M = 100\n",
    "x = shipping_analysis(A, b, M, kra=False, eq=False, flag=True)"
   ]
  },
  {
   "cell_type": "code",
   "execution_count": 5,
   "metadata": {},
   "outputs": [
    {
     "data": {
      "text/plain": [
       "np.float64(184.68827048616757)"
      ]
     },
     "execution_count": 5,
     "metadata": {},
     "output_type": "execute_result"
    }
   ],
   "source": [
    "def route_check(x):\n",
    "    if len(x) == 6:\n",
    "        A_w = A\n",
    "        b_w = b\n",
    "        r = np.array([[1, 0, 0, 0, 0, 1],\n",
    "                      [1, 0, 1, 0, 0, 0],\n",
    "                      [0, 1, 0, 1, 0, 0],\n",
    "                      [0, 1, 0, 0, 1, 0]])\n",
    "    elif len(x) == 5:\n",
    "        A_w = A[:-1, :-1]\n",
    "        b_w = b[:-1]\n",
    "        r = np.array([[1, 0, 1, 0, 0],\n",
    "                      [0, 1, 0, 1, 0],\n",
    "                      [0, 1, 0, 0, 1]])\n",
    "    else:\n",
    "        raise ValueError('x needs to be 5 or 6 dimensional.')\n",
    "    return r @ (A_w @ x + b_w)\n",
    "\n",
    "def social_optimum(x):\n",
    "    if len(x) == 6:\n",
    "        A_w = A\n",
    "        b_w = b\n",
    "    elif len(x) == 5:\n",
    "        A_w = A[:-1, :-1]\n",
    "        b_w = b[:-1]\n",
    "    return (x.T @ A_w @ x + b_w .T @ x) / M\n",
    "social_optimum(x)"
   ]
  },
  {
   "cell_type": "code",
   "execution_count": null,
   "metadata": {},
   "outputs": [],
   "source": []
  }
 ],
 "metadata": {
  "kernelspec": {
   "display_name": ".venv",
   "language": "python",
   "name": "python3"
  },
  "language_info": {
   "codemirror_mode": {
    "name": "ipython",
    "version": 3
   },
   "file_extension": ".py",
   "mimetype": "text/x-python",
   "name": "python",
   "nbconvert_exporter": "python",
   "pygments_lexer": "ipython3",
   "version": "3.11.7"
  }
 },
 "nbformat": 4,
 "nbformat_minor": 2
}
