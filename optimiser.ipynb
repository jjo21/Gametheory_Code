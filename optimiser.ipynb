{
 "cells": [
  {
   "cell_type": "code",
   "execution_count": 1,
   "metadata": {},
   "outputs": [],
   "source": [
    "import scipy as sp\n",
    "import numpy as np\n",
    "from numbers import Number"
   ]
  },
  {
   "cell_type": "code",
   "execution_count": null,
   "metadata": {},
   "outputs": [
    {
     "name": "stdout",
     "output_type": "stream",
     "text": [
      "Equilibrium Analysis (Without Kra Canal)\n",
      "Optimal Solution: [27.62499745 72.37500255 27.62499745 28.12497573 44.25002682]\n"
     ]
    }
   ],
   "source": [
    "def shipping_analysis(A, b, M, kra=True, eq=True, flag=True):\n",
    "    \"\"\"\n",
    "    Compute minimising solution for relevant optimisation problems related to\n",
    "    the congestion network as defined in the coursework.\n",
    "    ===\n",
    "    Inputs:\n",
    "    A (numpy.ndarray) : Congestion gradient coefficients of cost functions in a\n",
    "                        2D matrix. Must be a diagonal matrix.\n",
    "    b (numpy.ndarray) : Constant coefficients of cost functions in a 1D vector.\n",
    "    M (numbers.Number): Total mass in the network.\n",
    "    kra (bool)        : Determine whether to include the Kra Canal or not.\n",
    "    eq (bool)         : Determine optimisation problem to solve: equilibrium\n",
    "                        solution if True, social optimum if False.\n",
    "    flag (bool)       : if True, will print information about solution.\n",
    "    ---\n",
    "    Output:\n",
    "    constrained (numpy.ndarray): Flow that minimises the optimisation problem.\n",
    "    ===\n",
    "    \"\"\"\n",
    "    if not (isinstance(A, np.ndarray) and len(A.shape) == 2\n",
    "            and isinstance(b, np.ndarray) and len(b.shape) == 1\n",
    "            and isinstance(M, Number)):\n",
    "        raise TypeError(\"A has to be a 2D numpy array, b a 1D numpy array\"\n",
    "                        \"and M a number.\")\n",
    "    \n",
    "    if kra:\n",
    "        A_w = A\n",
    "        b_w = b\n",
    "        C = np.array([[1, 1, 0, 0, 0, 0],\n",
    "                      [-1, 0, 1, 0, 0, 1],\n",
    "                      [0, -1, 0, 1, 1, 0]])\n",
    "    else:\n",
    "        A_w = A[:-1, :-1]\n",
    "        b_w = b[:-1]\n",
    "        C = np.array([[1, 1, 0, 0, 0],\n",
    "                      [-1, 0, 1, 0, 0],\n",
    "                      [0, -1, 0, 1, 1]])\n",
    "    d = np.array([M, 0, 0])\n",
    "    if not eq:\n",
    "        A_w *= 2\n",
    "\n",
    "    # Unconstrained solution\n",
    "    A_1 = np.diag(1/np.diag(A_w))\n",
    "    un = -A_1 @ b_w\n",
    "    \n",
    "    # Constrained optimization with non-negativity and equality constraints\n",
    "    def objective(x):\n",
    "        return 0.5 * x @ A_w @ x + b_w @ x\n",
    "    \n",
    "    def equality_constraints(x):\n",
    "        return C @ x - d\n",
    "\n",
    "    constraints = [{'type': 'eq', 'fun': equality_constraints}]\n",
    "    bounds = [(0, None) for _ in range(len(b_w))]  # Non-negativity constraints\n",
    "    result = sp.optimize.minimize(objective, un,\n",
    "                                  bounds=bounds, constraints=constraints)\n",
    "    if not result.success:\n",
    "        raise ValueError(\"Optimization failed to converge.\")\n",
    "    constrained = result.x\n",
    "    if flag:\n",
    "        if eq:\n",
    "            text = \"Equilibrium Analysis\"\n",
    "        else:\n",
    "            text = \"Social Optimum Analysis\"\n",
    "        if kra:\n",
    "            text += \" (With Kra Canal)\"\n",
    "        else:\n",
    "            text += \" (Without Kra Canal)\"\n",
    "        print(text)\n",
    "        print(f\"Optimal Solution: {constrained}\")\n",
    "    \n",
    "    return constrained\n",
    "\n",
    "# Example usage\n",
    "A = np.diag([1, 1, 5, 3, 1.5, 20])\n",
    "b = np.array([10, 20, 15, 14, 32, 10])\n",
    "M = 100\n",
    "x = shipping_analysis(A, b, M, kra=False, eq=True, flag=True)"
   ]
  },
  {
   "cell_type": "code",
   "execution_count": 82,
   "metadata": {},
   "outputs": [
    {
     "name": "stdout",
     "output_type": "stream",
     "text": [
      "Equilibrium Analysis (With Kra Canal)\n",
      "Optimal Solution: [6.36593078e+01 3.63406922e+01 6.34596424e+01 3.63406922e+01\n",
      " 5.32907052e-15 1.99665347e-01]\n"
     ]
    }
   ],
   "source": [
    "congestion = 1 / np.array([17.24, 25.4, 36.19, 0.04])\n",
    "congestion = congestion / np.sum(congestion)\n",
    "congestion = np.concatenate(([0.0000000001, 0.000000001], congestion))\n",
    "A = np.diag(congestion)\n",
    "b = np.array([118093.97, 230596.48, 159620.44, 143039.42, 315912.85, 103749.65])\n",
    "b /= np.sum(b)\n",
    "x = shipping_analysis(A, b, M, kra=True, eq=True, flag=True)"
   ]
  },
  {
   "cell_type": "code",
   "execution_count": 76,
   "metadata": {},
   "outputs": [],
   "source": [
    "def route_cost(x):\n",
    "    \"\"\"\n",
    "    Compute the total cost of traversing each of the routes of the\n",
    "    congestion network from Node A to Node D, given flow x.\n",
    "    ===\n",
    "    Inputs:\n",
    "    x (numpy.ndarray): Flow of system. Must be a 5 or 6 dimensional vector.\n",
    "    ---\n",
    "    Outputs:\n",
    "    c (numpy.ndarray): Cost of each route.\n",
    "    ===\n",
    "    \"\"\"\n",
    "    if len(x) == 6:\n",
    "        A_w = A\n",
    "        b_w = b\n",
    "        r = np.array([[1, 0, 0, 0, 0, 1],\n",
    "                      [1, 0, 1, 0, 0, 0],\n",
    "                      [0, 1, 0, 1, 0, 0],\n",
    "                      [0, 1, 0, 0, 1, 0]])\n",
    "    elif len(x) == 5:\n",
    "        A_w = A[:-1, :-1]\n",
    "        b_w = b[:-1]\n",
    "        r = np.array([[1, 0, 1, 0, 0],\n",
    "                      [0, 1, 0, 1, 0],\n",
    "                      [0, 1, 0, 0, 1]])\n",
    "    else:\n",
    "        raise ValueError('x needs to be 5 or 6 dimensional.')\n",
    "    return r @ (A_w @ x + b_w)\n",
    "\n",
    "def average_cost(x):\n",
    "    \"\"\"\n",
    "    Compute the average cost of any given user of the congestion network\n",
    "    from Node A to Node D, given flow x.\n",
    "    ===\n",
    "    Inputs:\n",
    "    x (numpy.ndarray): Flow of system. Must be a 5 or 6 dimensional vector.\n",
    "    ---\n",
    "    Outputs:\n",
    "    c (numpy.ndarray): Average cost per single user of network.\n",
    "    ===\n",
    "    \"\"\"\n",
    "    if len(x) == 6:\n",
    "        A_w = A\n",
    "        b_w = b\n",
    "    elif len(x) == 5:\n",
    "        A_w = A[:-1, :-1]\n",
    "        b_w = b[:-1]\n",
    "    return (x.T @ A_w @ x + b_w .T @ x) / M\n",
    "cost = average_cost(x)"
   ]
  },
  {
   "cell_type": "code",
   "execution_count": 75,
   "metadata": {},
   "outputs": [
    {
     "data": {
      "text/plain": [
       "array([190.75, 190.75, 190.75])"
      ]
     },
     "execution_count": 75,
     "metadata": {},
     "output_type": "execute_result"
    }
   ],
   "source": [
    "route_cost(x)"
   ]
  },
  {
   "cell_type": "code",
   "execution_count": null,
   "metadata": {},
   "outputs": [],
   "source": []
  },
  {
   "cell_type": "code",
   "execution_count": null,
   "metadata": {},
   "outputs": [
    {
     "data": {
      "text/plain": [
       "np.float64(1.0000186471036423)"
      ]
     },
     "execution_count": 56,
     "metadata": {},
     "output_type": "execute_result"
    }
   ],
   "source": [
    "def POA(x_bar, x_tilde):\n",
    "    \"\"\"\n",
    "    Calculate Price of Anarchy of the congestion network.\n",
    "    ===\n",
    "    Inputs:\n",
    "    x_bar (numpy.ndarray):   Flow of system in equilibrium state.\n",
    "    x_tilde (numpy.ndarray): Flow of system in social optimum.\n",
    "    ---\n",
    "    Outputs:\n",
    "    c (numpy.ndarray): Average cost per single user of network.\n",
    "    ===\n",
    "    \"\"\"\n",
    "    if x_bar.shape != x_tilde.shape:\n",
    "        raise ValueError(\"x_bar and x_tilde must be vectors of the same size.\")\n",
    "    return average_cost(x_bar)/average_cost(x_tilde)\n",
    "\n",
    "POA(shipping_analysis(A, b, M, kra=False, eq=True, flag=False),\n",
    "    shipping_analysis(A, b, M, kra=False, eq=False, flag=False))"
   ]
  },
  {
   "cell_type": "code",
   "execution_count": null,
   "metadata": {},
   "outputs": [],
   "source": []
  }
 ],
 "metadata": {
  "kernelspec": {
   "display_name": ".venv",
   "language": "python",
   "name": "python3"
  },
  "language_info": {
   "codemirror_mode": {
    "name": "ipython",
    "version": 3
   },
   "file_extension": ".py",
   "mimetype": "text/x-python",
   "name": "python",
   "nbconvert_exporter": "python",
   "pygments_lexer": "ipython3",
   "version": "3.11.7"
  }
 },
 "nbformat": 4,
 "nbformat_minor": 2
}
