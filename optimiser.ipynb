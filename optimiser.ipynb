{
 "cells": [
  {
   "cell_type": "code",
   "execution_count": 4,
   "metadata": {},
   "outputs": [],
   "source": [
    "import scipy as sp\n",
    "import numpy as np"
   ]
  },
  {
   "cell_type": "code",
   "execution_count": 14,
   "metadata": {},
   "outputs": [
    {
     "name": "stdout",
     "output_type": "stream",
     "text": [
      "Optimal solution: [2.69177945 7.30822055 2.12785608 4.17123605 3.1369845  0.56392337]\n",
      "Objective value: 236.2294520548796\n"
     ]
    }
   ],
   "source": [
    "A = np.diag([10, 2, 3, 4, 5, 6])\n",
    "b = np.array([2, 3, 4, 5, 6, 7])\n",
    "M = 10\n",
    "\n",
    "def cost_function(x):\n",
    "    if not isinstance(x, np.ndarray):\n",
    "        raise TypeError\n",
    "    return 1/2 * (x.T @ A @ x) + b.T @ x\n",
    "\n",
    "c1 = np.array([1, 1, 0, 0, 0, 0])\n",
    "c2 = np.array([-1, 0, 1, 0, 0, 1])\n",
    "c3 = np.array([0, -1, 0, 1, 1, 0])\n",
    "\n",
    "def constraint_1(x):\n",
    "    return c1 @ x - M\n",
    "\n",
    "def constraint_2(x):\n",
    "    return c2 @ x\n",
    "\n",
    "def constraint_3(x):\n",
    "    return c3 @ x\n",
    "\n",
    "bounds = [(0, None) for _ in range(6)]\n",
    "constraints = [\n",
    "    {\"type\": \"eq\", \"fun\": constraint_1},\n",
    "    {\"type\": \"eq\", \"fun\": constraint_2},\n",
    "    {\"type\": \"eq\", \"fun\": constraint_3},\n",
    "]\n",
    "\n",
    "x0 = np.ones(6)\n",
    "result = sp.optimize.minimize(cost_function, x0, method='SLSQP', constraints=constraints, bounds=bounds)\n",
    "if result.success:\n",
    "    print(\"Optimal solution:\", result.x)\n",
    "    print(\"Objective value:\", result.fun)\n",
    "else:\n",
    "    print(\"Optimization failed:\", result.message)"
   ]
  },
  {
   "cell_type": "code",
   "execution_count": 15,
   "metadata": {},
   "outputs": [
    {
     "data": {
      "text/plain": [
       "array([2.69177945, 7.30822055, 2.12785608, 4.17123605, 3.1369845 ,\n",
       "       0.56392337])"
      ]
     },
     "execution_count": 15,
     "metadata": {},
     "output_type": "execute_result"
    }
   ],
   "source": [
    "x = result.x\n",
    "x"
   ]
  },
  {
   "cell_type": "code",
   "execution_count": null,
   "metadata": {},
   "outputs": [
    {
     "data": {
      "text/plain": [
       "(np.float64(39.30133467947831),\n",
       " np.float64(39.301362696883416),\n",
       " np.float64(39.301385313685834),\n",
       " np.float64(39.301363616341895))"
      ]
     },
     "execution_count": 16,
     "metadata": {},
     "output_type": "execute_result"
    }
   ],
   "source": [
    "r1 = np.array([1, 0, 0, 0, 0, 1])\n",
    "r2 = np.array([1, 0, 1, 0, 0, 0])\n",
    "r3 = np.array([0, 1, 0, 1, 0, 0])\n",
    "r4 = np.array([0, 1, 0, 0, 1, 0])\n",
    "def route(x, r):\n",
    "    return r.T @ A @ x + r.T @ b"
   ]
  },
  {
   "cell_type": "code",
   "execution_count": null,
   "metadata": {},
   "outputs": [],
   "source": []
  }
 ],
 "metadata": {
  "kernelspec": {
   "display_name": ".venv",
   "language": "python",
   "name": "python3"
  },
  "language_info": {
   "codemirror_mode": {
    "name": "ipython",
    "version": 3
   },
   "file_extension": ".py",
   "mimetype": "text/x-python",
   "name": "python",
   "nbconvert_exporter": "python",
   "pygments_lexer": "ipython3",
   "version": "3.11.7"
  }
 },
 "nbformat": 4,
 "nbformat_minor": 2
}
