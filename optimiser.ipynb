{
 "cells": [
  {
   "cell_type": "code",
   "execution_count": 4,
   "metadata": {},
   "outputs": [],
   "source": [
    "import scipy as sp\n",
    "import numpy as np"
   ]
  },
  {
   "cell_type": "code",
   "execution_count": 53,
   "metadata": {},
   "outputs": [
    {
     "name": "stdout",
     "output_type": "stream",
     "text": [
      "Optimal solution: [2.69178086 7.30821914 2.12785384 4.17123291 3.13698623 0.56392702]\n",
      "Objective value: 236.2294520547945\n"
     ]
    }
   ],
   "source": [
    "from numbers import Number\n",
    "c1 = np.array([1, 1, 0, 0, 0, 0])\n",
    "c2 = np.array([-1, 0, 1, 0, 0, 1])\n",
    "c3 = np.array([0, -1, 0, 1, 1, 0])\n",
    "\n",
    "def shipping_equilibrium(A, b, M):\n",
    "    if not (isinstance(A, np.ndarray) and len(A.shape) == 2\n",
    "            and isinstance(b, np.ndarray) and len(b.shape) == 1\n",
    "            and isinstance(M, Number)):\n",
    "        raise TypeError(\"A has to be a 2D numpy array, b a 1D numpy array\"\n",
    "                        \"and M a number.\")\n",
    "    c1 = np.array([1, 1, 0, 0, 0, 0])\n",
    "    c2 = np.array([-1, 0, 1, 0, 0, 1])\n",
    "    c3 = np.array([0, -1, 0, 1, 1, 0])\n",
    "    def cost_function(x):\n",
    "        if not isinstance(x, np.ndarray):\n",
    "            raise TypeError\n",
    "        return 1/2 * (x.T @ A @ x) + b.T @ x\n",
    "    def constraint_1(x):\n",
    "        return c1 @ x - M\n",
    "    def constraint_2(x):\n",
    "        return c2 @ x\n",
    "    def constraint_3(x):\n",
    "        return c3 @ x\n",
    "    bounds = [(0, None) for _ in range(6)]\n",
    "    constraints = [\n",
    "        {\"type\": \"eq\", \"fun\": constraint_1},\n",
    "        {\"type\": \"eq\", \"fun\": constraint_2},\n",
    "        {\"type\": \"eq\", \"fun\": constraint_3},\n",
    "    ]\n",
    "    x0 = np.ones(6)\n",
    "    result = sp.optimize.minimize(cost_function, x0, method='SLSQP', constraints=constraints, bounds=bounds, tol=1e-25)\n",
    "    if result.success:\n",
    "        print(\"Optimal solution:\", result.x)\n",
    "        print(\"Objective value:\", result.fun)\n",
    "    else:\n",
    "        print(\"Optimization failed:\", result.message)\n",
    "    return result.x\n",
    "A = np.diag([10, 2, 3, 4, 5, 6])\n",
    "b = np.array([2, 3, 4, 5, 6, 7])\n",
    "M = 10\n",
    "x = shipping_equilibrium(A, b, M)"
   ]
  },
  {
   "cell_type": "code",
   "execution_count": 54,
   "metadata": {},
   "outputs": [
    {
     "name": "stdout",
     "output_type": "stream",
     "text": [
      "39.30137073425678\n",
      "39.30137011761364\n",
      "39.30136993533442\n",
      "39.30136940832923\n"
     ]
    }
   ],
   "source": [
    "r1 = np.array([1, 0, 0, 0, 0, 1])\n",
    "r2 = np.array([1, 0, 1, 0, 0, 0])\n",
    "r3 = np.array([0, 1, 0, 1, 0, 0])\n",
    "r4 = np.array([0, 1, 0, 0, 1, 0])\n",
    "r = [r1, r2, r3, r4]\n",
    "def route(x, r):\n",
    "    return r.T @ A @ x + r.T @ b\n",
    "for i in range(4):\n",
    "    print(route(x, r[i]))"
   ]
  },
  {
   "cell_type": "code",
   "execution_count": null,
   "metadata": {},
   "outputs": [],
   "source": []
  }
 ],
 "metadata": {
  "kernelspec": {
   "display_name": ".venv",
   "language": "python",
   "name": "python3"
  },
  "language_info": {
   "codemirror_mode": {
    "name": "ipython",
    "version": 3
   },
   "file_extension": ".py",
   "mimetype": "text/x-python",
   "name": "python",
   "nbconvert_exporter": "python",
   "pygments_lexer": "ipython3",
   "version": "3.11.7"
  }
 },
 "nbformat": 4,
 "nbformat_minor": 2
}
