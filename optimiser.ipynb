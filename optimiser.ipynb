{
 "cells": [
  {
   "cell_type": "code",
   "execution_count": 1,
   "metadata": {},
   "outputs": [],
   "source": [
    "import scipy as sp\n",
    "import numpy as np\n",
    "from numbers import Number"
   ]
  },
  {
   "cell_type": "code",
   "execution_count": null,
   "metadata": {},
   "outputs": [
    {
     "name": "stdout",
     "output_type": "stream",
     "text": [
      "Equilibrium Analysis (Without Kra Canal)\n",
      "Optimal solution: [58.25644894 41.74355106 58.25644894 23.30197468 18.44157639]\n",
      "Objective value: 9530.370333839166\n"
     ]
    }
   ],
   "source": [
    "from numbers import Number\n",
    "\n",
    "def shipping_analysis(A, b, M, kra=True, eq=True, flag=True):\n",
    "    if not (isinstance(A, np.ndarray) and len(A.shape) == 2\n",
    "            and isinstance(b, np.ndarray) and len(b.shape) == 1\n",
    "            and isinstance(M, Number)):\n",
    "        raise TypeError(\"A has to be a 2D numpy array, b a 1D numpy array\"\n",
    "                        \"and M a number.\")\n",
    "    \n",
    "    if kra:\n",
    "        A_w = A\n",
    "        b_w = b\n",
    "        C = np.array([[1, 1, 0, 0, 0, 0],\n",
    "                      [-1, 0, 1, 0, 0, 1],\n",
    "                      [0, -1, 0, 1, 1, 0]])\n",
    "    else:\n",
    "        A_w = A[:-1, :-1]\n",
    "        b_w = b[:-1]\n",
    "        C = np.array([[1, 1, 0, 0, 0],\n",
    "                      [-1, 0, 1, 0, 0],\n",
    "                      [0, -1, 0, 1, 1]])\n",
    "    d = np.array([M, 0, 0])\n",
    "    if not eq:\n",
    "        A_w *= 2\n",
    "    A_1 = np.linalg.inv(A_w)\n",
    "    un = -A_1 @ b_w\n",
    "    constrained = un - ((A_1 @ C.T) @ (np.linalg.inv(C @ A_1 @ C.T)) @ (C @ un - d))\n",
    "    if flag:\n",
    "        if eq:\n",
    "            text = \"Equilibrium Analysis\"\n",
    "        else:\n",
    "            text = \"Social Optimum Analysis\"\n",
    "        if kra:\n",
    "            text += \" (With Kra Canal)\"\n",
    "        else:\n",
    "            text += \" (Without Kra Canal)\"\n",
    "        print(text)\n",
    "        print(f\"Optimal Solution: = {constrained}\")\n",
    "    return constrained\n",
    "A = np.diag([0.1, 2, 3, 4, 5, 6])\n",
    "b = np.array([0.1, 3, 4, 5, 6, 7])\n",
    "M = 100\n",
    "x = shipping_analysis(A, b, M, kra=False, eq=True, flag=True)"
   ]
  },
  {
   "cell_type": "code",
   "execution_count": 22,
   "metadata": {},
   "outputs": [],
   "source": [
    "def route_check(x):\n",
    "    if len(x) == 6:\n",
    "        A_w = A\n",
    "        b_w = b\n",
    "        r = np.array([[1, 0, 0, 0, 0, 1],\n",
    "                      [1, 0, 1, 0, 0, 0],\n",
    "                      [0, 1, 0, 1, 0, 0],\n",
    "                      [0, 1, 0, 0, 1, 0]])\n",
    "    elif len(x) == 5:\n",
    "        A_w = A[:-1, :-1]\n",
    "        b_w = b[:-1]\n",
    "        r = np.array([[1, 0, 1, 0, 0],\n",
    "                      [0, 1, 0, 1, 0],\n",
    "                      [0, 1, 0, 0, 1]])\n",
    "    else:\n",
    "        raise ValueError('x needs to be 5 or 6 dimensional.')\n",
    "    return r @ (A_w @ x + b_w)\n",
    "\n",
    "def average_cost(x):\n",
    "    if len(x) == 6:\n",
    "        A_w = A\n",
    "        b_w = b\n",
    "    elif len(x) == 5:\n",
    "        A_w = A[:-1, :-1]\n",
    "        b_w = b[:-1]\n",
    "    return (x.T @ A_w @ x + b_w .T @ x) / M\n",
    "cost = average_cost(x)"
   ]
  },
  {
   "cell_type": "code",
   "execution_count": 23,
   "metadata": {},
   "outputs": [
    {
     "data": {
      "text/plain": [
       "np.float64(1.000036396113496)"
      ]
     },
     "execution_count": 23,
     "metadata": {},
     "output_type": "execute_result"
    }
   ],
   "source": [
    "def POA(x_bar, x_tilde):\n",
    "    return average_cost(x_bar)/average_cost(x_tilde)\n",
    "\n",
    "POA(shipping_analysis(A, b, M, kra=False, eq=True, flag=False),\n",
    "    shipping_analysis(A, b, M, kra=False, eq=False, flag=False))"
   ]
  },
  {
   "cell_type": "code",
   "execution_count": null,
   "metadata": {},
   "outputs": [],
   "source": []
  }
 ],
 "metadata": {
  "kernelspec": {
   "display_name": ".venv",
   "language": "python",
   "name": "python3"
  },
  "language_info": {
   "codemirror_mode": {
    "name": "ipython",
    "version": 3
   },
   "file_extension": ".py",
   "mimetype": "text/x-python",
   "name": "python",
   "nbconvert_exporter": "python",
   "pygments_lexer": "ipython3",
   "version": "3.11.7"
  }
 },
 "nbformat": 4,
 "nbformat_minor": 2
}
