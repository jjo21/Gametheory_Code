{
 "cells": [
  {
   "cell_type": "code",
   "execution_count": 1,
   "metadata": {},
   "outputs": [],
   "source": [
    "import scipy as sp\n",
    "import numpy as np\n",
    "from numbers import Number"
   ]
  },
  {
   "cell_type": "code",
   "execution_count": null,
   "metadata": {},
   "outputs": [
    {
     "name": "stdout",
     "output_type": "stream",
     "text": [
      "Social Optimum Analysis (Without Kra Canal)\n",
      "Optimal Solution: = [57.95978756 42.04021244 57.95978756 23.41122914 18.62898331]\n"
     ]
    }
   ],
   "source": [
    "def shipping_analysis(A, b, M, kra=True, eq=True, flag=True):\n",
    "    \"\"\"\n",
    "    Compute minimising solution for relevant optimisation problems related to\n",
    "    the congestion network as defined in the coursework.\n",
    "    ===\n",
    "    Inputs:\n",
    "    A (numpy.ndarray) : Congestion gradient coefficients of cost functions in a\n",
    "                        2D matrix. Must be a diagonal matrix.\n",
    "    b (numpy.ndarray) : Constant coefficients of cost functions in a 1D vector.\n",
    "    M (numbers.Number): Total mass in the network.\n",
    "    kra (bool)        : Determine whether to include the Kra Canal or not.\n",
    "    eq (bool)         : Determine optimisation problem to solve: equilibrium\n",
    "                        solution if True, social optimum if False.\n",
    "    flag (bool)       : if True, will print information about solution.\n",
    "    ---\n",
    "    Output:\n",
    "    constrained (numpy.ndarray): Flow that minimises the optimisation problem.\n",
    "    ===\n",
    "    \"\"\"\n",
    "    if not (isinstance(A, np.ndarray) and len(A.shape) == 2\n",
    "            and isinstance(b, np.ndarray) and len(b.shape) == 1\n",
    "            and isinstance(M, Number)):\n",
    "        raise TypeError(\"A has to be a 2D numpy array, b a 1D numpy array\"\n",
    "                        \"and M a number.\")\n",
    "    \n",
    "    if kra:\n",
    "        A_w = A\n",
    "        b_w = b\n",
    "        C = np.array([[1, 1, 0, 0, 0, 0],\n",
    "                      [-1, 0, 1, 0, 0, 1],\n",
    "                      [0, -1, 0, 1, 1, 0]])\n",
    "    else:\n",
    "        A_w = A[:-1, :-1]\n",
    "        b_w = b[:-1]\n",
    "        C = np.array([[1, 1, 0, 0, 0],\n",
    "                      [-1, 0, 1, 0, 0],\n",
    "                      [0, -1, 0, 1, 1]])\n",
    "    d = np.array([M, 0, 0])\n",
    "    if not eq:\n",
    "        A_w *= 2\n",
    "    A_1 = np.diag(1/np.diag(A_w))\n",
    "    un = -A_1 @ b_w\n",
    "    constrained = un - ((A_1 @ C.T) @ (np.linalg.inv(C @ A_1 @ C.T))\n",
    "                        @ (C @ un - d))\n",
    "    if flag:\n",
    "        if eq:\n",
    "            text = \"Equilibrium Analysis\"\n",
    "        else:\n",
    "            text = \"Social Optimum Analysis\"\n",
    "        if kra:\n",
    "            text += \" (With Kra Canal)\"\n",
    "        else:\n",
    "            text += \" (Without Kra Canal)\"\n",
    "        print(text)\n",
    "        print(f\"Optimal Solution: = {constrained}\")\n",
    "    return constrained\n",
    "A = np.diag([0.1, 2, 3, 4, 5, 6])\n",
    "b = np.array([0.1, 3, 4, 5, 6, 7])\n",
    "M = 100\n",
    "x = shipping_analysis(A, b, M, kra=False, eq=False, flag=True)"
   ]
  },
  {
   "cell_type": "code",
   "execution_count": null,
   "metadata": {},
   "outputs": [
    {
     "name": "stdout",
     "output_type": "stream",
     "text": [
      "363.4506828528063 [363.45068285 363.45068285 363.45068285]\n"
     ]
    }
   ],
   "source": [
    "def route_cost(x):\n",
    "    \"\"\"\n",
    "    Compute the total cost of traversing each of the routes of the\n",
    "    congestion network from Node A to Node D, given flow x.\n",
    "    ===\n",
    "    Inputs:\n",
    "    x (numpy.ndarray): Flow of system. Must be a 5 or 6 dimensional vector.\n",
    "    ---\n",
    "    Outputs:\n",
    "    c (numpy.ndarray): Cost of each route.\n",
    "    ===\n",
    "    \"\"\"\n",
    "    if len(x) == 6:\n",
    "        A_w = A\n",
    "        b_w = b\n",
    "        r = np.array([[1, 0, 0, 0, 0, 1],\n",
    "                      [1, 0, 1, 0, 0, 0],\n",
    "                      [0, 1, 0, 1, 0, 0],\n",
    "                      [0, 1, 0, 0, 1, 0]])\n",
    "    elif len(x) == 5:\n",
    "        A_w = A[:-1, :-1]\n",
    "        b_w = b[:-1]\n",
    "        r = np.array([[1, 0, 1, 0, 0],\n",
    "                      [0, 1, 0, 1, 0],\n",
    "                      [0, 1, 0, 0, 1]])\n",
    "    else:\n",
    "        raise ValueError('x needs to be 5 or 6 dimensional.')\n",
    "    return r @ (A_w @ x + b_w)\n",
    "\n",
    "def average_cost(x):\n",
    "    \"\"\"\n",
    "    Compute the average cost of any given user of the congestion network\n",
    "    from Node A to Node D, given flow x.\n",
    "    ===\n",
    "    Inputs:\n",
    "    x (numpy.ndarray): Flow of system. Must be a 5 or 6 dimensional vector.\n",
    "    ---\n",
    "    Outputs:\n",
    "    c (numpy.ndarray): Average cost per single user of network.\n",
    "    ===\n",
    "    \"\"\"\n",
    "    if len(x) == 6:\n",
    "        A_w = A\n",
    "        b_w = b\n",
    "    elif len(x) == 5:\n",
    "        A_w = A[:-1, :-1]\n",
    "        b_w = b[:-1]\n",
    "    return (x.T @ A_w @ x + b_w .T @ x) / M\n",
    "cost = average_cost(x)"
   ]
  },
  {
   "cell_type": "code",
   "execution_count": null,
   "metadata": {},
   "outputs": [
    {
     "data": {
      "text/plain": [
       "np.float64(1.0000186471036423)"
      ]
     },
     "execution_count": 56,
     "metadata": {},
     "output_type": "execute_result"
    }
   ],
   "source": [
    "def POA(x_bar, x_tilde):\n",
    "    \"\"\"\n",
    "    Calculate Price of Anarchy of the congestion network.\n",
    "    ===\n",
    "    Inputs:\n",
    "    x_bar (numpy.ndarray):   Flow of system in equilibrium state.\n",
    "    x_tilde (numpy.ndarray): Flow of system in social optimum.\n",
    "    ---\n",
    "    Outputs:\n",
    "    c (numpy.ndarray): Average cost per single user of network.\n",
    "    ===\n",
    "    \"\"\"\n",
    "    if x_bar.shape != x_tilde.shape:\n",
    "        raise ValueError(\"x_bar and x_tilde must be vectors of the same size.\")\n",
    "    return average_cost(x_bar)/average_cost(x_tilde)\n",
    "\n",
    "POA(shipping_analysis(A, b, M, kra=False, eq=True, flag=False),\n",
    "    shipping_analysis(A, b, M, kra=False, eq=False, flag=False))"
   ]
  },
  {
   "cell_type": "code",
   "execution_count": null,
   "metadata": {},
   "outputs": [],
   "source": []
  }
 ],
 "metadata": {
  "kernelspec": {
   "display_name": ".venv",
   "language": "python",
   "name": "python3"
  },
  "language_info": {
   "codemirror_mode": {
    "name": "ipython",
    "version": 3
   },
   "file_extension": ".py",
   "mimetype": "text/x-python",
   "name": "python",
   "nbconvert_exporter": "python",
   "pygments_lexer": "ipython3",
   "version": "3.11.7"
  }
 },
 "nbformat": 4,
 "nbformat_minor": 2
}
